{
 "cells": [
  {
   "cell_type": "code",
   "execution_count": 1,
   "id": "401bc9f9",
   "metadata": {},
   "outputs": [
    {
     "name": "stdout",
     "output_type": "stream",
     "text": [
      "exp 1 start...\n",
      "exp 1 data successfully collected: data/demon/exp_1_DAY30/DAY30_exp1.csv\n",
      "all experiments completed.\n"
     ]
    }
   ],
   "source": [
    "import serial\n",
    "import time\n",
    "import pandas as pd\n",
    "import os\n",
    "\n",
    "\n",
    "# 설정 변수\n",
    "\"\"\"수집 전 매번 offset 확인 필수\"\"\"\n",
    "port = \"COM4\"  # 아두이노가 연결된 포트 (리눅스/Mac의 경우 \"/dev/ttyUSB0\" 등)\n",
    "baud_rate = 115200  # 아두이노 시리얼 통신 속도\n",
    "experiment_count = 1  # 총 실험 반복 횟수\n",
    "experiment_duration = 3  # 실험 지속 시간 (초)\n",
    "interval = 0.005  # 데이터 수집 간격 (초)\n",
    "\n",
    "late_day = 30 #달걀상온경과일. 실험마다 수정 필요.\n",
    "exp_num = 1 #실험(달걀) 번호. 실험마다 수정 필요.\n",
    "\n",
    "\n",
    "csv_filename = (f\"data/demon/exp_{exp_num}_DAY{late_day}/DAY{late_day}_exp\")  # 저장할 파일 이름 (실험 번호가 추가됨)\n",
    "\n",
    "# 폴더가 존재하지 않으면 생성\n",
    "os.makedirs(os.path.dirname(csv_filename), exist_ok=True)\n",
    "\n",
    "\n",
    "iteration = int(experiment_duration / interval)  # 각 실험에서 수집할 데이터 개수\n",
    "\n",
    "def clearInput():\n",
    "    while( ser.in_waiting > 0 ):\n",
    "        treshline = ser.readline()\n",
    "    \n",
    "\n",
    "# 시리얼 포트 열기\n",
    "ser = serial.Serial(port, baud_rate, timeout=1)\n",
    "time.sleep(3)  # 아두이노 초기화 대기\n",
    "\n",
    "for exp in range(1, experiment_count + 1):\n",
    "    \n",
    "    time.sleep(1)  # 실험 간 대기 시간 (필요에 따라 조정)\n",
    "    clearInput()\n",
    "    \n",
    "    \n",
    "    print(f\"exp {exp} start...\")\n",
    "    \n",
    "    ser.write(b'8')  # 아두이노에서 \"END\" 신호를 인식하도록 설정\n",
    "    # print(\"vibration end\")\n",
    "    \n",
    "    clearInput()\n",
    "    data_list = []\n",
    "    start_time = time.time()\n",
    "\n",
    "    for i in range(iteration):\n",
    "        if ser.in_waiting > 0:\n",
    "            try:\n",
    "                line = ser.readline().decode(\"utf-8\", errors=\"ignore\").strip()\n",
    "            except UnicodeDecodeError:\n",
    "                print(\"decoding error appeared. ignore it.\")\n",
    "                continue\n",
    "\n",
    "            values = line.split(\",\")\n",
    "            if len(values) == 3:  # 예상한 데이터 개수와 일치하는 경우만 저장\n",
    "                try:\n",
    "                    data_list.append([float(v) for v in values])\n",
    "                except ValueError:\n",
    "                    pass  # 변환 불가능한 데이터 무시\n",
    "        time.sleep(interval)  # 다음 데이터 수집까지 대기\n",
    "\n",
    "    # 데이터 저장\n",
    "    df = pd.DataFrame(data_list, columns=[\"gyro_x\", \"gyro_y\", \"gyro_z\"])\n",
    "    filename = f\"{csv_filename}{exp}.csv\"\n",
    "    df.to_csv(filename, index=False)\n",
    "    print(f\"exp {exp} data successfully collected: {filename}\")\n",
    "\n",
    "    \n",
    "\n",
    "# 시리얼 포트 닫기\n",
    "ser.close()\n",
    "print(\"all experiments completed.\")\n"
   ]
  },
  {
   "cell_type": "code",
   "execution_count": 2,
   "id": "d98867c6",
   "metadata": {},
   "outputs": [],
   "source": [
    "from data_utils import *\n",
    "\n",
    "import glob\n",
    "import pandas as pd\n",
    "\n",
    "import torch\n",
    "import torch.nn as nn\n",
    "import torch.nn.functional as F\n",
    "from torch.utils.data import Dataset, DataLoader\n",
    "from model import InceptionNetwork\n",
    "import matplotlib.pyplot  as plt\n",
    "import csv"
   ]
  },
  {
   "cell_type": "code",
   "execution_count": 3,
   "id": "812bc406",
   "metadata": {},
   "outputs": [],
   "source": [
    "global_min = torch.tensor([-710., -501., -708.])\n",
    "global_max = torch.tensor([670., 544., 655.])\n",
    "regression = True\n",
    "ybatchNormalize = True\n",
    "y_mean = 18.33333396911621\n",
    "y_std = 9.783748626708984"
   ]
  },
  {
   "cell_type": "code",
   "execution_count": 6,
   "id": "4b28db95",
   "metadata": {},
   "outputs": [
    {
     "name": "stdout",
     "output_type": "stream",
     "text": [
      "{'data/demon/exp_1_DAY30': 30}\n",
      "{30: '30'}\n"
     ]
    }
   ],
   "source": [
    "data_paths_test = [\n",
    "    \"data/demon/exp_1_DAY30\", ##이름 확인\n",
    "    #\"data/demon/exp_1_DAY3\"\n",
    "    ]\n",
    "day_values_test = [\"30\"]#날짜 확인\n",
    "\n",
    "folder2label_test = {folder: int(folder.split(\"DAY\")[-1]) for folder in data_paths_test}\n",
    "label2name_test = {int(day_values_test[idx]): day for idx, day in enumerate(day_values_test)}\n",
    "\n",
    "dataset_test = PaddedTimeSeriesDataset(data_paths_test, folder2label_test, global_min = global_min, global_max = global_max, regression=regression)  # 여러 폴더 지정 가능\n",
    "dataloader_test = DataLoader(dataset_test,  batch_size=1, shuffle=True, collate_fn=collate_fn_regression)\n",
    "\n",
    "print(folder2label_test)\n",
    "print(label2name_test)"
   ]
  },
  {
   "cell_type": "code",
   "execution_count": 7,
   "id": "eab7da3d",
   "metadata": {},
   "outputs": [
    {
     "name": "stdout",
     "output_type": "stream",
     "text": [
      "Using device: cpu\n",
      "cpu\n",
      "./models/model0513_3/model.pt\tdevice: cpu\n",
      "Predicted: 30.106714248657227\n",
      "Ground truth: [30.0]\n",
      "Test MSE: 0.0114\n",
      "[30.106714248657227] [30.0]\n"
     ]
    },
    {
     "name": "stderr",
     "output_type": "stream",
     "text": [
      "C:\\Users\\Public\\Documents\\ESTsoft\\CreatorTemp\\ipykernel_1568\\2094601401.py:36: FutureWarning: You are using `torch.load` with `weights_only=False` (the current default value), which uses the default pickle module implicitly. It is possible to construct malicious pickle data which will execute arbitrary code during unpickling (See https://github.com/pytorch/pytorch/blob/main/SECURITY.md#untrusted-models for more details). In a future release, the default value for `weights_only` will be flipped to `True`. This limits the functions that could be executed during unpickling. Arbitrary objects will no longer be allowed to be loaded via this mode unless they are explicitly allowlisted by the user via `torch.serialization.add_safe_globals`. We recommend you start setting `weights_only=True` for any use case where you don't have full control of the loaded file. Please open an issue on GitHub for any issues related to this experimental feature.\n",
      "  model = torch.load(model_path, map_location=torch.device('cpu'))\n"
     ]
    },
    {
     "data": {
      "image/png": "[encoded data removed]",
      "text/plain": [
       "<Figure size 1000x500 with 1 Axes>"
      ]
     },
     "metadata": {},
     "output_type": "display_data"
    }
   ],
   "source": [
    "def test_model(model, dataloader, print_prediction=False):\n",
    "    print(\"device:\", device)\n",
    "    model = model.to(device)\n",
    "    model.eval()\n",
    "    predictions = []\n",
    "    truths = []\n",
    "    with torch.no_grad():\n",
    "        for X_batch, y_batch in dataloader:\n",
    "            X_batch, y_batch = X_batch.to(device), y_batch.to(device)\n",
    "            \n",
    "            outputs = model(X_batch).squeeze()  # 예: (B, 1) → (B,)\n",
    "            if ybatchNormalize:\n",
    "                #역정규화\n",
    "                outputs = outputs * y_std + y_mean\n",
    "            predictions.extend([outputs.cpu().tolist()])\n",
    "            truths.extend(y_batch.cpu().tolist())\n",
    "            if print_prediction:\n",
    "                print(\"Predicted:\", outputs.cpu().tolist())\n",
    "                print(\"Ground truth:\", y_batch.cpu().tolist())\n",
    "\n",
    "    # 예: MSE 계산\n",
    "    mse = sum((p - t) ** 2 for p, t in zip(predictions, truths)) / len(truths)\n",
    "    print(f\"Test MSE: {mse:.4f}\")\n",
    "    return predictions, truths\n",
    "\n",
    "\n",
    "trained_model_paths = [\n",
    "    \"./models/model0513_3/model.pt\"\n",
    "]\n",
    "\n",
    "device = torch.device(\"cuda\" if torch.cuda.is_available() else \"cpu\")\n",
    "print(f\"Using device: {device}\")\n",
    "\n",
    "for model_path in trained_model_paths:\n",
    "    print(device)\n",
    "    model = torch.load(model_path, map_location=torch.device('cpu'))\n",
    "        \n",
    "    print(model_path, end='\\t')\n",
    "    p,r = test_model(model, dataloader_test, print_prediction=True)\n",
    "    print(p,r)\n",
    "    xAxis = range(len(p))\n",
    "    plt.figure(figsize=(10, 5))\n",
    "    plt.scatter(xAxis, p, color='blue', label='Predicted')\n",
    "    plt.scatter(xAxis, r,color='red', label='True')\n",
    "    plt.legend()\n",
    "    plt.plot()\n",
    "    plt.show()"
   ]
  }
 ],
 "metadata": {
  "kernelspec": {
   "display_name": "Python 3",
   "language": "python",
   "name": "python3"
  },
  "language_info": {
   "codemirror_mode": {
    "name": "ipython",
    "version": 3
   },
   "file_extension": ".py",
   "mimetype": "text/x-python",
   "name": "python",
   "nbconvert_exporter": "python",
   "pygments_lexer": "ipython3",
   "version": "3.12.6"
  }
 },
 "nbformat": 4,
 "nbformat_minor": 5
}
